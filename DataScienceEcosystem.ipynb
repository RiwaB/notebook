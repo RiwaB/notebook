{
 "cells": [
  {
   "cell_type": "markdown",
   "id": "2c315d43-1438-4482-ac8e-25ae44e9f134",
   "metadata": {},
   "source": [
    "# Data Science Tools and Ecosystem"
   ]
  },
  {
   "cell_type": "markdown",
   "id": "dd4eec93-180b-4441-85cc-c0aae54d3aa9",
   "metadata": {},
   "source": [
    "In this notebook, Data Science Tools and Ecosystem are summarized."
   ]
  },
  {
   "cell_type": "markdown",
   "id": "52fdc438-243d-4469-9d44-b2b5093f0cf7",
   "metadata": {},
   "source": [
    "**Objectives:**\n",
    "\n",
    "- List popular languages for Data Science\n",
    "- Explain the purpose of Anaconda\n",
    "- Introduce Jupyter Notebooks and JupyterLab\n",
    "- Describe version control and GitHub basics\n",
    "- Illustrate basic arithmetic operations in Python\n"
   ]
  },
  {
   "cell_type": "markdown",
   "id": "b0c0b61e-5272-46e8-b50c-01723ba4404d",
   "metadata": {},
   "source": [
    "Some of the popular languages that Data Scientists use are:"
   ]
  },
  {
   "cell_type": "markdown",
   "id": "799ea2db-0df9-452b-803f-f7a5dd3628c5",
   "metadata": {},
   "source": [
    "1. R\n",
    "2. Python\n",
    "3. SQL"
   ]
  },
  {
   "cell_type": "markdown",
   "id": "0a4b454c-29d3-45c7-b365-2de14f72171c",
   "metadata": {},
   "source": [
    "Some of the commonly used libraries used by Data Scientists include:"
   ]
  },
  {
   "cell_type": "markdown",
   "id": "6f887a7c-7c9a-4799-9340-5dcd0fb2abda",
   "metadata": {},
   "source": [
    "1. NumPy\n",
    "2. Pandas\n",
    "3. Matplotlib"
   ]
  },
  {
   "cell_type": "markdown",
   "id": "42d0ea92-15c4-4b2b-b439-f5bf20e4cf54",
   "metadata": {},
   "source": [
    "| Data Science Tools        |\n",
    "|---------------------------|\n",
    "| Jupyter Notebook          |\n",
    "| RStudio                   |\n",
    "| Apache Zeppelin           |\n"
   ]
  },
  {
   "cell_type": "markdown",
   "id": "02e2b2f4-f721-4f57-8c27-0fce31d1df35",
   "metadata": {},
   "source": [
    "### Below are a few examples of evaluating arithmetic expressions in Python"
   ]
  },
  {
   "cell_type": "code",
   "execution_count": 4,
   "id": "95757e4a-13da-4ae7-9051-61acf7fe1c4e",
   "metadata": {},
   "outputs": [
    {
     "data": {
      "text/plain": [
       "17"
      ]
     },
     "execution_count": 4,
     "metadata": {},
     "output_type": "execute_result"
    }
   ],
   "source": [
    "# This is a simple arithmetic expression to multiply then add integers\n",
    "(3*4)+5"
   ]
  },
  {
   "cell_type": "code",
   "execution_count": 5,
   "id": "6b581959-cc62-4fe3-a2e5-8f7030cc7579",
   "metadata": {},
   "outputs": [
    {
     "data": {
      "text/plain": [
       "3.3333333333333335"
      ]
     },
     "execution_count": 5,
     "metadata": {},
     "output_type": "execute_result"
    }
   ],
   "source": [
    "# This will convert 200 minutes to hours by dividing by 60\n",
    "200 / 60\n"
   ]
  },
  {
   "cell_type": "markdown",
   "id": "996485d4-7eb9-4e3b-a667-e9a8c3ca6095",
   "metadata": {},
   "source": [
    "## Author\n",
    "Riwa"
   ]
  },
  {
   "cell_type": "code",
   "execution_count": null,
   "id": "c57f874d-c07f-4555-86f8-dcd378664e1c",
   "metadata": {},
   "outputs": [],
   "source": []
  }
 ],
 "metadata": {
  "kernelspec": {
   "display_name": "Python 3 (ipykernel)",
   "language": "python",
   "name": "python3"
  },
  "language_info": {
   "codemirror_mode": {
    "name": "ipython",
    "version": 3
   },
   "file_extension": ".py",
   "mimetype": "text/x-python",
   "name": "python",
   "nbconvert_exporter": "python",
   "pygments_lexer": "ipython3",
   "version": "3.11.7"
  }
 },
 "nbformat": 4,
 "nbformat_minor": 5
}
